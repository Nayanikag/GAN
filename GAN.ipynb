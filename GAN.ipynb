{
  "nbformat": 4,
  "nbformat_minor": 0,
  "metadata": {
    "colab": {
      "name": "GAN",
      "provenance": [],
      "collapsed_sections": []
    },
    "kernelspec": {
      "name": "python3",
      "display_name": "Python 3"
    },
    "accelerator": "GPU"
  },
  "cells": [
    {
      "cell_type": "markdown",
      "metadata": {
        "id": "SRDAILSOfZL8"
      },
      "source": [
        "# Imports"
      ]
    },
    {
      "cell_type": "code",
      "metadata": {
        "id": "afb4r4mtYKSv"
      },
      "source": [
        "#imports\n",
        "import torch\n",
        "import torch.nn as nn\n",
        "from torch import mean\n",
        "import torch.nn.functional as func\n",
        "import torch.optim as optim\n",
        "from torchvision import datasets, transforms\n",
        "from torch.autograd import Variable\n",
        "from torchvision.utils import save_image\n",
        "from torch.utils.data.sampler import SubsetRandomSampler"
      ],
      "execution_count": 188,
      "outputs": []
    },
    {
      "cell_type": "code",
      "metadata": {
        "id": "qJgZRPCfZczm"
      },
      "source": [
        "# configs\n",
        "device = torch.device('cuda' if torch.cuda.is_available() else 'cpu')\n",
        "batch_size = 100"
      ],
      "execution_count": 189,
      "outputs": []
    },
    {
      "cell_type": "markdown",
      "metadata": {
        "id": "2cNbkujOfdgD"
      },
      "source": [
        "# Data Loading"
      ]
    },
    {
      "cell_type": "markdown",
      "metadata": {
        "id": "WPo8RsiX6sL8"
      },
      "source": [
        ""
      ]
    },
    {
      "cell_type": "code",
      "metadata": {
        "id": "VFt9F0SnZfpp"
      },
      "source": [
        "# Load Training Data\n",
        "train_dataset = datasets.MNIST(root='./mnist_data/', train=True, transform=transforms.ToTensor(), download=True)\n",
        "num_train = len(train_dataset)\n",
        "indices = list(range(num_train))\n",
        "#train with 1000 images, divided in batch of 8(100 images in each batch)\n",
        "train_idx = indices[:10000]\n",
        "train_sampler = SubsetRandomSampler(train_idx)\n",
        "train_loader = torch.utils.data.DataLoader(dataset=train_dataset, batch_size=batch_size, sampler=train_sampler)"
      ],
      "execution_count": 190,
      "outputs": []
    },
    {
      "cell_type": "code",
      "metadata": {
        "id": "pJ8BasSn7dqa"
      },
      "source": [
        "# Load the test data\n",
        "test_dataset = datasets.MNIST(root='./mnist_data/', train=False, transform=transforms.ToTensor(), download=False)\n",
        "num_test = len(test_dataset)\n",
        "indices = list(range(num_test))\n",
        "#test with 200 images\n",
        "test_idx = indices[:200]\n",
        "test_sampler = SubsetRandomSampler(test_idx)\n",
        "test_dataloader = torch.utils.data.DataLoader(test_dataset, batch_size=batch_size)"
      ],
      "execution_count": 191,
      "outputs": []
    },
    {
      "cell_type": "markdown",
      "metadata": {
        "id": "fSokTTphfh5C"
      },
      "source": [
        "# Network implementation"
      ]
    },
    {
      "cell_type": "code",
      "metadata": {
        "id": "o9HTi0xzBNJn"
      },
      "source": [
        "class Generator(nn.Module):\n",
        "    def __init__(self, generator_input_dim, generator_output_dim):\n",
        "        super(Generator, self).__init__()       \n",
        "        self.linear1 = nn.Linear(generator_input_dim, 256)\n",
        "        self.linear2 = nn.Linear(256, 512)\n",
        "        self.linear3 = nn.Linear(512, generator_output_dim)\n",
        "    \n",
        "    def forward(self, inp): \n",
        "        inp = nn.ReLU()(self.linear1(inp))\n",
        "        inp = nn.ReLU()(self.linear2(inp))\n",
        "        inp = nn.Tanh()(self.linear3(inp))\n",
        "        return inp\n",
        "    \n",
        "class Discriminator(nn.Module):\n",
        "    def __init__(self, discriminator_input_dim):\n",
        "        super(Discriminator, self).__init__()\n",
        "        self.linear1 = nn.Linear(discriminator_input_dim, 256)\n",
        "        self.linear2 = nn.Linear(256, 256)\n",
        "        self.linear3 = nn.Linear(256, 1)\n",
        "    \n",
        "    def forward(self, inp):\n",
        "        inp = nn.LeakyReLU(0.2)(self.linear1(inp))\n",
        "        inp = nn.LeakyReLU(0.2)(self.linear2(inp))\n",
        "        inp = nn.Sigmoid()(self.linear3(inp))\n",
        "        return inp"
      ],
      "execution_count": 192,
      "outputs": []
    },
    {
      "cell_type": "code",
      "metadata": {
        "colab": {
          "base_uri": "https://localhost:8080/"
        },
        "id": "WSMsvcAoZlnS",
        "outputId": "567dfbec-5c33-420c-971a-1592a3d9afc7"
      },
      "source": [
        "# build network\n",
        "noise_dim = 64\n",
        "flattened_input_dim = train_dataset.train_data.size(1) * train_dataset.train_data.size(2)\n",
        "\n",
        "generator = Generator(generator_input_dim = noise_dim, generator_output_dim = flattened_input_dim).to(device)\n",
        "discriminator = Discriminator(flattened_input_dim).to(device)"
      ],
      "execution_count": 193,
      "outputs": [
        {
          "output_type": "stream",
          "text": [
            "/usr/local/lib/python3.6/dist-packages/torchvision/datasets/mnist.py:58: UserWarning: train_data has been renamed data\n",
            "  warnings.warn(\"train_data has been renamed data\")\n"
          ],
          "name": "stderr"
        }
      ]
    },
    {
      "cell_type": "markdown",
      "metadata": {
        "id": "zYpqprwQfx27"
      },
      "source": [
        "# Training"
      ]
    },
    {
      "cell_type": "code",
      "metadata": {
        "id": "TWiUjnu9ZoMw"
      },
      "source": [
        "\n",
        "# loss function\n",
        "loss = nn.BCELoss() \n",
        "\n",
        "# optimizer\n",
        "G_optimizer = optim.Adam(generator.parameters(), lr=0.0001, betas=(0.85, 0.99))\n",
        "D_optimizer = optim.Adam(discriminator.parameters(), lr=0.00005, betas=(0.85, 0.99))"
      ],
      "execution_count": 194,
      "outputs": []
    },
    {
      "cell_type": "code",
      "metadata": {
        "id": "-NbkLbGnZrea"
      },
      "source": [
        "def train_discriminator(img):\n",
        "    discriminator.train()\n",
        "    for i in range(0,1):\n",
        "      discriminator.zero_grad()\n",
        "\n",
        "      # train discriminator on real image\n",
        "      real_image, real_label = img.view(-1, flattened_input_dim), torch.ones(batch_size, 1)\n",
        "      real_image, real_label = Variable(real_image.to(device)), Variable(real_label.to(device))\n",
        "\n",
        "      discriminator_output1 = discriminator(real_image)\n",
        "      discriminator_real_loss = func.binary_cross_entropy(discriminator_output1, real_label)\n",
        "      discriminator_real_loss.backward()\n",
        "\n",
        "      # train discriminator on fake image\n",
        "      latent_noise = Variable(torch.randn(batch_size, noise_dim).to(device))\n",
        "      fake_image, fake_label = generator(latent_noise).detach(), Variable(torch.zeros(batch_size, 1).to(device))\n",
        "      discriminator_output2 = discriminator(fake_image)\n",
        "      discriminator_fake_loss = func.binary_cross_entropy(discriminator_output2, fake_label)\n",
        "      discriminator_fake_score = discriminator_output2\n",
        "      discriminator_loss = discriminator_real_loss + discriminator_fake_loss\n",
        "      discriminator_fake_loss.backward()\n",
        "      D_optimizer.step()\n",
        "        \n",
        "    return  discriminator_loss.data.item()"
      ],
      "execution_count": 195,
      "outputs": []
    },
    {
      "cell_type": "code",
      "metadata": {
        "id": "5nxZoaqbZv8x"
      },
      "source": [
        "def train_generator():\n",
        "    generator.train()\n",
        "\n",
        "    noise = Variable(torch.randn(batch_size, noise_dim).to(device))\n",
        "    y = Variable(torch.ones(batch_size, 1).to(device))\n",
        "\n",
        "    generator_output = generator(noise)\n",
        "    discriminator_output = discriminator(generator_output)\n",
        "    generator_loss = func.binary_cross_entropy(discriminator_output, y)\n",
        "    generator.zero_grad()\n",
        "    generator_loss.backward()\n",
        "    G_optimizer.step()\n",
        "        \n",
        "    return (generator_output, generator_loss.data.item())"
      ],
      "execution_count": 196,
      "outputs": []
    },
    {
      "cell_type": "code",
      "metadata": {
        "id": "TdfTXy6SZz4F"
      },
      "source": [
        "import matplotlib.pyplot as plt\n",
        "import numpy as np\n",
        "n_epoch = 1000\n",
        "D_losses_all, G_losses_all = [], []\n",
        "k = 20\n",
        "for epoch in range(1, n_epoch+1):\n",
        "    running_loss_D = 0.0\n",
        "    loss_values_D = []\n",
        "    running_loss_G = 0.0\n",
        "    loss_values_G = []          \n",
        "    D_losses, G_losses = [], []\n",
        "    for batch_idx, (x, _) in enumerate(train_loader):\n",
        "        D_losses.append(train_discriminator(x))\n",
        "        if k == 0:\n",
        "          for i in range(0, 40):\n",
        "            (generator_output, generator_loss) = train_generator()\n",
        "            G_losses.append(generator_loss)\n",
        "            \n",
        "          k = 20\n",
        "          gen_copy = generator_output\n",
        "          \n",
        "          # Uncomment this and update the path to save the image\n",
        "          #if batch_idx % 4 == 0 and epoch%100 == 0:\n",
        "          #  save_image(generator_output.view(generator_output.size(0), 1, 28, 28).data.cpu(), f'./GAN2/generator_image_{epoch}_{batch_idx}.png')\n",
        "        else:\n",
        "          k = k - 1\n",
        "    plt.imshow(gen_copy.view(gen_copy.size(0), 28, 28)[0].data.cpu(), cmap='gray')\n",
        "    plt.title(\"Reconstructed image\")\n",
        "    plt.show()\n",
        "    print('[%d/%d]: loss_d: %.3f, loss_g: %.3f' % (\n",
        "            (epoch), n_epoch, torch.mean(torch.FloatTensor(D_losses)), torch.mean(torch.FloatTensor(G_losses))))\n",
        "    D_losses_all.append(torch.mean(torch.FloatTensor(D_losses)))\n",
        "    G_losses_all.append(torch.mean(torch.FloatTensor(G_losses)))\n",
        "plt.plot(np.array(G_losses_all), 'r')\n",
        "plt.plot(np.array(D_losses_all), 'r')"
      ],
      "execution_count": null,
      "outputs": []
    },
    {
      "cell_type": "code",
      "metadata": {
        "id": "TbKDhYE4Lvnk",
        "colab": {
          "base_uri": "https://localhost:8080/",
          "height": 283
        },
        "outputId": "23853be9-009c-4180-ec31-8509d6c29f27"
      },
      "source": [
        "import matplotlib.pyplot as plt\n",
        "import numpy as np\n",
        "plt.plot(np.array(G_losses_all), 'b', label=\"Generator loss\")\n",
        "plt.plot(np.array(D_losses_all), 'r', label=\"Discriminator loss\")"
      ],
      "execution_count": 202,
      "outputs": [
        {
          "output_type": "execute_result",
          "data": {
            "text/plain": [
              "[<matplotlib.lines.Line2D at 0x7fa7dc68e6d8>]"
            ]
          },
          "metadata": {
            "tags": []
          },
          "execution_count": 202
        },
        {
          "output_type": "display_data",
          "data": {
            "image/png": "[encoded data removed]",
            "text/plain": [
              "<Figure size 432x288 with 1 Axes>"
            ]
          },
          "metadata": {
            "tags": [],
            "needs_background": "light"
          }
        }
      ]
    }
  ]
}